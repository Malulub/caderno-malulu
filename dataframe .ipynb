{
 "cells": [
  {
   "cell_type": "code",
   "execution_count": 8,
   "id": "695b7201-5515-4f99-8c5d-6551de6d1d06",
   "metadata": {},
   "outputs": [
    {
     "ename": "SyntaxError",
     "evalue": "invalid syntax (4044809385.py, line 12)",
     "output_type": "error",
     "traceback": [
      "\u001b[0;36m  Cell \u001b[0;32mIn[8], line 12\u001b[0;36m\u001b[0m\n\u001b[0;31m    git add\u001b[0m\n\u001b[0m        ^\u001b[0m\n\u001b[0;31mSyntaxError\u001b[0m\u001b[0;31m:\u001b[0m invalid syntax\n"
     ]
    }
   ],
   "source": [
    "import pandas as pd\n",
    "import numpy as np\n",
    "dados = {\n",
    "        'Nome': ['Pedro','Maria','Janaina','Wong','Roberto','Marco','Paula','Lolo'],        \n",
    "        \"Cidade\": ['Porto Alegre','São Paulo','Rio Janeiro','Brasília','Salvador','Curitiba','Belo Horizonte','Alvorada'],\n",
    "        \"Idade\": [14,13,15,16,18,13,14,17],\n",
    "        'Nota': [83.0, 59.0, 86.0, 89.0, 98.0, 61.0, 44.0,78.0],\n",
    "        }\n",
    "\n",
    "dfAlunos = pd.DataFrame(data=dados)\n",
    "print (dfAlunos) \n"
   ]
  },
  {
   "cell_type": "code",
   "execution_count": null,
   "id": "8857e1e0-9f55-41bf-96c7-17c18b84f266",
   "metadata": {},
   "outputs": [],
   "source": []
  }
 ],
 "metadata": {
  "kernelspec": {
   "display_name": "Python 3 (ipykernel)",
   "language": "python",
   "name": "python3"
  },
  "language_info": {
   "codemirror_mode": {
    "name": "ipython",
    "version": 3
   },
   "file_extension": ".py",
   "mimetype": "text/x-python",
   "name": "python",
   "nbconvert_exporter": "python",
   "pygments_lexer": "ipython3",
   "version": "3.11.2"
  }
 },
 "nbformat": 4,
 "nbformat_minor": 5
}
