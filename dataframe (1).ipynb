{
 "cells": [
  {
   "cell_type": "code",
   "execution_count": 9,
   "id": "695b7201-5515-4f99-8c5d-6551de6d1d06",
   "metadata": {},
   "outputs": [
    {
     "name": "stdout",
     "output_type": "stream",
     "text": [
      "      Nome          Cidade  Idade  Nota\n",
      "0    Pedro    Porto Alegre     14  83.0\n",
      "1    Maria       São Paulo     13  59.0\n",
      "2  Janaina     Rio Janeiro     15  86.0\n",
      "3     Wong        Brasília     16  89.0\n",
      "4  Roberto        Salvador     18  98.0\n",
      "5    Marco        Curitiba     13  61.0\n",
      "6    Paula  Belo Horizonte     14  44.0\n",
      "7     Lolo        Alvorada     17  78.0\n"
     ]
    }
   ],
   "source": [
    "import pandas as pd\n",
    "import numpy as np\n",
    "dados = {\n",
    "        'Nome': ['Pedro','Maria','Janaina','Wong','Roberto','Marco','Paula','Lolo'],        \n",
    "        \"Cidade\": ['Porto Alegre','São Paulo','Rio Janeiro','Brasília','Salvador','Curitiba','Belo Horizonte','Alvorada'],\n",
    "        \"Idade\": [14,13,15,16,18,13,14,17],\n",
    "        'Nota': [83.0, 59.0, 86.0, 89.0, 98.0, 61.0, 44.0,78.0],\n",
    "        }\n",
    "\n",
    "dfAlunos = pd.DataFrame(data=dados)\n",
    "print (dfAlunos) \n"
   ]
  },
  {
   "cell_type": "code",
   "execution_count": null,
   "id": "8857e1e0-9f55-41bf-96c7-17c18b84f266",
   "metadata": {},
   "outputs": [],
   "source": []
  },
  {
   "cell_type": "code",
   "execution_count": null,
   "id": "a3e8fe23-8710-4354-a100-fc6843691460",
   "metadata": {},
   "outputs": [],
   "source": []
  }
 ],
 "metadata": {
  "kernelspec": {
   "display_name": "Python 3 (ipykernel)",
   "language": "python",
   "name": "python3"
  },
  "language_info": {
   "codemirror_mode": {
    "name": "ipython",
    "version": 3
   },
   "file_extension": ".py",
   "mimetype": "text/x-python",
   "name": "python",
   "nbconvert_exporter": "python",
   "pygments_lexer": "ipython3",
   "version": "3.11.2"
  }
 },
 "nbformat": 4,
 "nbformat_minor": 5
}
