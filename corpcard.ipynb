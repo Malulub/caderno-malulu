{
 "cells": [
  {
   "cell_type": "markdown",
   "id": "f9c0ddac-195c-435b-85b0-de23f59b2f93",
   "metadata": {},
   "source": [
    "# Checking presidential corporate card (Brazil)\n",
    "<pre>\n",
    "Data Source https://www.gov.br/secretariageral/pt-br/acesso-a-informacao/informacoes-classificadas-e-desclassificadas/Planilha12003a2022.csv\n",
    "</pre>"
   ]
  },
  {
   "cell_type": "markdown",
   "id": "e8e438a7-d1bd-4d0c-9284-f97154e3bdce",
   "metadata": {},
   "source": [
    "# Versão por MalulubS2 "
   ]
  },
  {
   "cell_type": "code",
   "execution_count": 5,
   "id": "6c579f42-6bd1-416d-9e5e-0e1ff9788c58",
   "metadata": {},
   "outputs": [],
   "source": [
    "import pandas as pd\n",
    "import plotly \n",
    "import matplotlib.pyplot as plt\n",
    "from matplotlib.ticker import FixedLocator, FixedFormatter\n",
    "import matplotlib.dates as mdates"
   ]
  },
  {
   "cell_type": "code",
   "execution_count": null,
   "id": "271d172a-e046-44da-9a2d-767b78750ca8",
   "metadata": {},
   "outputs": [],
   "source": [
    "def clean_currency(x):\n",
    "    \"\"\" If the value is a string, then remove currency symbol and delimiters\n",
    "    otherwise, the value is numeric and can be converted\n",
    "    \"\"\"\n",
    "    if isinstance(x, str):\n",
    "        return(x.replace('R$', '').replace('.', '').replace(' ','').replace(',','.'))\n",
    "    return(x)"
   ]
  },
  {
   "cell_type": "code",
   "execution_count": null,
   "id": "60cdbfdf-976a-4489-9134-e6f7f286b9ae",
   "metadata": {},
   "outputs": [],
   "source": [
    "# Read Presidential corporate card\n",
    "df=pd.read_csv('Planilha12003a2022.csv.gz', sep=\";\", encoding=\"latin-1\")[['DATA PGTO','VALOR']]\n",
    "df = df.rename(columns={'DATA PGTO':'date','VALOR':'value'})\n"
   ]
  },
  {
   "cell_type": "code",
   "execution_count": null,
   "id": "9c24ed76-5a99-4db3-b5a9-a8d7415ddb28",
   "metadata": {},
   "outputs": [],
   "source": [
    "# Convert values to numbers\n",
    "df['value']=df['value'].apply(clean_currency)\n",
    "df=df[~df['value'].isna()]\n",
    "\n",
    "try:\n",
    "    df['value'] = pd.to_numeric(df['value']) \n",
    "except ValueError:\n",
    "    # I want to register on my log the message recived on ORIGINAL VALUE\n",
    "    mask = pd.to_numeric(df['value'], errors='coerce').isna() \n",
    "    #if possible missing values\n",
    "    #mask = pd.to_numeric(df['ORIGINAL_VALUE'].fillna('0'), errors='coerce').isna() \n",
    "    L = df.loc[mask, 'value'].tolist()\n",
    "    #print (\"Not converted values are: \" + \", \".join(L))\n",
    "    #Not converted values are: Wrong format\n",
    "    print(f\"Ignoring not converted values are: {L}\")"
   ]
  },
  {
   "cell_type": "code",
   "execution_count": null,
   "id": "cdf3c151-cf77-4fe2-bead-03d5f1470c09",
   "metadata": {},
   "outputs": [],
   "source": [
    "# Attempt to convert 'value' to numeric, coercing errors\n",
    "df['value'] = pd.to_numeric(df['value'], errors='coerce')\n",
    "\n",
    "# Downcast numeric types to the smallest size (forget nonums)\n",
    "df['value'] = pd.to_numeric(df['value'], downcast='float').fillna(0)   "
   ]
  },
  {
   "cell_type": "code",
   "execution_count": null,
   "id": "c7edf237-4445-4448-a97a-62b2c8a71611",
   "metadata": {},
   "outputs": [],
   "source": [
    "# convert date\n",
    "df['date']=pd.to_datetime(df['date'],format='%d/%m/%Y')"
   ]
  },
  {
   "cell_type": "markdown",
   "id": "d466d076-1ce9-4654-b988-b1ee8e8c894e",
   "metadata": {},
   "source": [
    "# Presidential expenses by day"
   ]
  },
  {
   "cell_type": "code",
   "execution_count": null,
   "id": "4d701df2-9ff9-4b1c-925e-8a9391befed8",
   "metadata": {},
   "outputs": [],
   "source": [
    "data=df.set_index('date')\n",
    "fig, ax = plt.subplots()\n",
    "data.plot(title=\"Gastos Diários com cartao corporativo 2003-2022\",figsize=(25, 6), fontsize=8, ax=ax)\n",
    "ax.legend([\"Valor em Reais\"]);\n",
    "ax.xaxis.set_major_locator(mdates.YearLocator())\n",
    "ax.xaxis.set_major_formatter(mdates.DateFormatter('%Y'))\n",
    "\n",
    "fig.savefig('diario.png')"
   ]
  },
  {
   "cell_type": "markdown",
   "id": "ce51e8a3-b8d3-427e-87fd-661dba8b0be5",
   "metadata": {},
   "source": [
    "# Expenses by year"
   ]
  },
  {
   "cell_type": "code",
   "execution_count": null,
   "id": "e2765139-e5bf-4c7d-8705-303b7e709619",
   "metadata": {},
   "outputs": [],
   "source": [
    "data = df.groupby(df.date.dt.year)['value'].agg(['sum'])"
   ]
  },
  {
   "cell_type": "code",
   "execution_count": null,
   "id": "f27a45cc-0bec-4d73-9d36-f587c744a5b1",
   "metadata": {},
   "outputs": [],
   "source": [
    "# Convert values to millions\n",
    "data['sum'] /= 1000000"
   ]
  },
  {
   "cell_type": "code",
   "execution_count": null,
   "id": "9823c4bf-6773-4b9b-8d55-8a817009deb3",
   "metadata": {},
   "outputs": [],
   "source": [
    "fig, ax = plt.subplots(figsize=(10, 6))\n",
    "data.plot(kind='bar', title=\"Gastos Anuais com cartao corporativo 2003-2022\",figsize=(15, 6), fontsize=12, ax=ax)\n",
    "ax.legend([\"Valor em Milhões de Reais\"]);\n",
    "#data.plot(kind='bar', ax=ax)\n",
    "plt.title('Gastos por ano')\n",
    "plt.xlabel('Ano')\n",
    "plt.ylabel('Valor (em milhões)')\n",
    "plt.xticks(rotation=45)\n",
    "plt.grid(axis='y', linestyle='--', alpha=0.7)\n",
    "plt.tight_layout()\n",
    "fig.savefig('anual.png')"
   ]
  },
  {
   "cell_type": "markdown",
   "id": "16eb2a72-df71-4a1c-b3bc-74ef0dd4503c",
   "metadata": {},
   "source": []
  },
  {
   "cell_type": "code",
   "execution_count": null,
   "id": "0e0721e2-4ac2-4f44-b52a-888626559317",
   "metadata": {},
   "outputs": [],
   "source": []
  }
 ],
 "metadata": {
  "kernelspec": {
   "display_name": "Python 3 (ipykernel)",
   "language": "python",
   "name": "python3"
  },
  "language_info": {
   "codemirror_mode": {
    "name": "ipython",
    "version": 3
   },
   "file_extension": ".py",
   "mimetype": "text/x-python",
   "name": "python",
   "nbconvert_exporter": "python",
   "pygments_lexer": "ipython3",
   "version": "3.11.2"
  }
 },
 "nbformat": 4,
 "nbformat_minor": 5
}
