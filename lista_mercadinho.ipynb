{
 "cells": [
  {
   "cell_type": "code",
   "execution_count": null,
   "id": "40ca5f29-ecaa-4a60-a87e-7c801135a61d",
   "metadata": {},
   "outputs": [],
   "source": [
    "\n",
    "produtos = {\n",
    "    \"maçã\": 1.00,\n",
    "    \"banana\": 0.50,\n",
    "    \"laranja\": 0.75,\n",
    "    \"uva\": 2.00,\n",
    "    \"pera\": 4.50,\n",
    "}\n",
    "\n",
    "def pesquisar_produto(nome_produto):\n",
    "    if nome_produto in produtos:\n",
    "        print(f\"O produto '{nome_produto}' está disponível e custa R$ {produtos[nome_produto]:.2f}\")\n",
    "    else:\n",
    "        print(f\"O produto '{nome_produto}' não está disponível.\")\n",
    "\n",
    "\n",
    "produto_pesquisado = input(\"Digite o nome do produto que deseja pesquisar: \").lower()\n",
    "pesquisar_produto(produto_pesquisado)\n"
   ]
  },
  {
   "cell_type": "code",
   "execution_count": null,
   "id": "f39b42c2-7d37-448a-b884-fd09e19fd446",
   "metadata": {},
   "outputs": [],
   "source": []
  }
 ],
 "metadata": {
  "kernelspec": {
   "display_name": "Python 3 (ipykernel)",
   "language": "python",
   "name": "python3"
  },
  "language_info": {
   "codemirror_mode": {
    "name": "ipython",
    "version": 3
   },
   "file_extension": ".py",
   "mimetype": "text/x-python",
   "name": "python",
   "nbconvert_exporter": "python",
   "pygments_lexer": "ipython3",
   "version": "3.11.2"
  }
 },
 "nbformat": 4,
 "nbformat_minor": 5
}
